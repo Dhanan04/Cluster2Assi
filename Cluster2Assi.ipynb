{
 "cells": [
  {
   "cell_type": "markdown",
   "id": "f058456b-73be-40c6-8bb3-eaf8302bcac9",
   "metadata": {},
   "source": [
    "Ans 1. \n",
    "\n",
    "Hierarchical clustering is a clustering technique used to create a hierarchy of clusters by iteratively merging or dividing existing clusters. It starts with each data point as its own cluster and progressively combines or separates clusters based on their similarity. The result is a tree-like structure called a dendrogram, which visually represents the relationships between data points and clusters at different levels of granularity. \n",
    "\n",
    "Hierarchical clustering creates a hierarchy of clusters, where clusters are nested within each other. This hierarchy captures the relationships between data points at various levels of granularity.\n",
    "\n",
    "Agglomerative hierarchical clustering starts with individual data points as clusters and iteratively merges them to form larger clusters. The process continues until all data points are in a single cluster. Divisive hierarchical clustering, less common, starts with all data points in one cluster and iteratively divides them into smaller clusters."
   ]
  },
  {
   "cell_type": "code",
   "execution_count": null,
   "id": "0e822ad3-b306-423b-a41c-19ff4b54a6d2",
   "metadata": {},
   "outputs": [],
   "source": []
  },
  {
   "cell_type": "markdown",
   "id": "3cdc2cb7-5122-4c88-84b0-510b50074667",
   "metadata": {},
   "source": [
    "Ans 2.\n",
    "\n",
    "The two main types of hierarchical clustering algorithms are agglomerative hierarchical clustering and divisive hierarchical clustering\n",
    "\n",
    "- Agglomerative hierarchical clustering is the more common of the two types. It starts with each data point as its own cluster and iteratively merges clusters based on their similarity. The algorithm progresses by iteratively combining the two closest clusters into a single cluster. This process continues until all data points are in a single cluster, forming a tree-like structure called a dendrogram. The dendrogram visually represents the hierarchy of clusters and the relationships between them \n",
    "\n",
    "Agglomerative hierarchical clustering results in a dendrogram that captures the hierarchical relationships between data points and clusters. The height at which clusters merge in the dendrogram indicates their similarity.\n",
    "\n",
    "- Divisive hierarchical clustering, while less common, takes the opposite approach. It starts with all data points in a single cluster and iteratively divides clusters into smaller ones. This approach is akin to a \"top-down\" approach, where you begin with a large cluster and recursively partition it into smaller clusters until each data point forms its own cluster.\n",
    "\n",
    "Divisive hierarchical clustering also results in a dendrogram, where data points are separated into clusters based on the criterion used for division."
   ]
  },
  {
   "cell_type": "code",
   "execution_count": null,
   "id": "ed764773-2a54-404e-bc0b-8d80baef8165",
   "metadata": {},
   "outputs": [],
   "source": []
  },
  {
   "cell_type": "markdown",
   "id": "bb56b95d-92fe-4fc9-891d-b60192965e66",
   "metadata": {},
   "source": [
    "Ans 3 .\n",
    "To determine the distance between two clusters in hierarchical clustering, we can use methods like Euclidean Distance , Manhattan (Cityblock) Distance , Pearson Correlation Distance\n",
    "- Euclidean Distance:\n",
    "Measures the straight-line distance between the centroids of two clusters.\n",
    "Commonly used for numerical data with similar scales.\n",
    "\n",
    "- Manhattan (Cityblock) Distance:\n",
    "Measures the sum of the absolute differences between coordinates of data points in two clusters.\n",
    "Suitable for cases where the data features are not continuous.\n",
    "\n",
    "- Pearson Correlation Distance:\n",
    "Measures the dissimilarity based on the correlation coefficient between features of data points.\n",
    "Suitable for cases where you want to measure similarity in terms of linear relationships."
   ]
  },
  {
   "cell_type": "code",
   "execution_count": null,
   "id": "6eeb3d0d-cf91-4ca7-8a9e-0f11cbff3428",
   "metadata": {},
   "outputs": [],
   "source": []
  },
  {
   "cell_type": "markdown",
   "id": "4f5337e3-6841-4ece-8882-e0f108d10c7e",
   "metadata": {},
   "source": [
    "Ans 4. \n",
    "Some common techniques used to find the optimal number of clusters are \n",
    "\n",
    "- Dendrogram Visualization:\n",
    "Plot the dendrogram and look for a point where the vertical lines representing the merging of clusters are spaced far apart. This can indicate a suitable number of clusters. this method can be subjective and might not always provide a clear-cut solution\n",
    "\n",
    "- Silhouette Score:\n",
    "Calculate the silhouette score for different numbers of clusters. The silhouette score measures how similar an object is to its own cluster compared to other clusters. Choose the number of clusters that gives the highest average silhouette score."
   ]
  },
  {
   "cell_type": "code",
   "execution_count": null,
   "id": "72ae4305-fd7c-44b3-b4c7-27f6bbbf1709",
   "metadata": {},
   "outputs": [],
   "source": []
  },
  {
   "cell_type": "markdown",
   "id": "0cd77967-de49-4879-9c5e-d2a066826f61",
   "metadata": {},
   "source": [
    "Ans 5.\n",
    "\n",
    "Dendrograms are graphical representations that visualize the results of hierarchical clustering. They display the hierarchy of clusters formed during the clustering process. Dendrograms are particularly useful for understanding relationships between data points, clusters, and the level of granularity at which clusters are formed.\n",
    "\n",
    "- Dendrograms visually represent how clusters are formed and merged during the hierarchical clustering process. Each vertical line in the dendrogram indicates a merging event. Dendrograms reveal the hierarchical structure of the data. By examining the dendrogram, you can identify clusters formed at different levels of similarity.\n",
    "\n",
    "- Dendrograms show how clusters are related to each other. Closer clusters in the dendrogram are more similar, while those farther apart are less similar. Outliers and anomalies are often visible in dendrograms as isolated data points or small clusters that are distant from others. \n",
    "\n",
    "- Dendrograms allow you to explore how the dataset can be partitioned into different groups, potentially revealing patterns and trends. Dendrograms provide insights into when and how clusters are merged or split, which can aid in understanding the structure of the data."
   ]
  },
  {
   "cell_type": "code",
   "execution_count": null,
   "id": "a8743720-49c2-46c6-95fd-186ba5ae3ffe",
   "metadata": {},
   "outputs": [],
   "source": []
  },
  {
   "cell_type": "markdown",
   "id": "d9289cec-a9d4-4609-b838-a8e21dafbe5c",
   "metadata": {},
   "source": [
    "Ans 6. \n",
    "Yes, hierarchical clustering can be used for both numerical and categorical data\n",
    "\n",
    "For numerical data, distance metrics like Euclidean distance, Manhattan distance (Cityblock distance), and Pearson correlation distance are commonly used. These metrics measure the differences between numerical values or patterns in numerical data.\n",
    "\n",
    "- Euclidean Distance: Measures the straight-line distance between two points in numerical space.\n",
    "- Manhattan Distance: Measures the sum of the absolute differences between coordinates of two points.\n",
    "- Pearson Correlation Distance: Measures the dissimilarity based on the correlation coefficient between features of two data points.\n",
    "\n",
    "For categorical data, using distance metrics designed for numerical data might not be appropriate, as they don't account for the categorical nature of the data. we can use distance metrics specifically suited for categorical data, such as:\n",
    "\n",
    "- Jaccard Distance: Measures the dissimilarity between sets of binary categorical data (e.g., presence or absence of features).\n",
    "- Hamming Distance: Measures the number of positions at which two strings of equal length differ (useful for binary or nominal data).\n",
    "- Matching Coefficient: Measures the proportion of matching attributes between two data points"
   ]
  },
  {
   "cell_type": "code",
   "execution_count": null,
   "id": "226cfe7b-4ca2-4831-8511-74d46d9bc41d",
   "metadata": {},
   "outputs": [],
   "source": []
  },
  {
   "cell_type": "markdown",
   "id": "3e3319b9-a14e-480d-a8fa-58793b9d775e",
   "metadata": {},
   "source": [
    "Ans.7\n",
    "\n",
    "Hierarchical clustering can be used to identify outliers or anomalies in your data by examining the resulting dendrogram and identifying data points that are far removed from the main clusters. \n",
    "\n",
    "- Once we have the dendrogram,we will visualize it to see how data points are clustered and at what height the clusters are merged. the height at which the vertical lines representing cluster merges occur.\n",
    "\n",
    "- should Look for data points that are located far away from the main clusters in the dendrogram. These points are typically isolated and have relatively high distances to other data points. \n",
    "\n",
    "- Decide a threshold distance value above which data points can be considered outliers. This threshold can be determined based on problem's requirements and the characteristics of data."
   ]
  },
  {
   "cell_type": "code",
   "execution_count": null,
   "id": "32021aad-2fb3-48ae-9792-2e1d25763883",
   "metadata": {},
   "outputs": [],
   "source": []
  }
 ],
 "metadata": {
  "kernelspec": {
   "display_name": "Python 3 (ipykernel)",
   "language": "python",
   "name": "python3"
  },
  "language_info": {
   "codemirror_mode": {
    "name": "ipython",
    "version": 3
   },
   "file_extension": ".py",
   "mimetype": "text/x-python",
   "name": "python",
   "nbconvert_exporter": "python",
   "pygments_lexer": "ipython3",
   "version": "3.10.8"
  }
 },
 "nbformat": 4,
 "nbformat_minor": 5
}
